{
 "cells": [
  {
   "cell_type": "code",
   "execution_count": 1,
   "id": "26350fcc",
   "metadata": {},
   "outputs": [],
   "source": [
    "#Get csv info\n",
    "import csv\n",
    "file_path = \"Resources/budget_data.csv\""
   ]
  },
  {
   "cell_type": "code",
   "execution_count": 2,
   "id": "8595d015",
   "metadata": {},
   "outputs": [],
   "source": [
    "# Variables\n",
    "total_months = 0\n",
    "net_profit = 0\n",
    "previous_profit = 0\n",
    "changes = []\n",
    "dates = []"
   ]
  },
  {
   "cell_type": "code",
   "execution_count": 3,
   "id": "4416c18f",
   "metadata": {},
   "outputs": [],
   "source": [
    "# Loop through CSV file\n",
    "with open(file_path, newline=\"\") as csvfile:\n",
    "    csvreader = csv.reader(csvfile, delimiter=\",\")\n",
    "\n",
    "    # Skip header row\n",
    "    header = next(csvreader)\n",
    "\n",
    "    # Loop through each row\n",
    "    for row in csvreader:\n",
    "        # Extract date and profit/loss\n",
    "        date = row[0]\n",
    "        profit = int(row[1])\n",
    "\n",
    "        # Find total months\n",
    "        total_months += 1\n",
    "\n",
    "        # Calculate net total amt profit/losses\n",
    "        net_profit += profit\n",
    "\n",
    "        # Calculate changes in profit/loss\n",
    "        if previous_profit != 0:\n",
    "            change = profit - previous_profit\n",
    "            changes.append(change)\n",
    "            dates.append(date)\n",
    "\n",
    "        # Set current profit/loss as the previous profit/loss for the next iteration\n",
    "        previous_profit = profit"
   ]
  },
  {
   "cell_type": "code",
   "execution_count": 4,
   "id": "7a58143c",
   "metadata": {},
   "outputs": [],
   "source": [
    "# Calculate the average change profit/loss\n",
    "average_change = sum(changes) / len(changes)"
   ]
  },
  {
   "cell_type": "code",
   "execution_count": 5,
   "id": "641cedd7",
   "metadata": {},
   "outputs": [],
   "source": [
    "# Find the greatest increase and decrease in profits\n",
    "greatest_increase = max(changes)\n",
    "greatest_decrease = min(changes)\n",
    "\n",
    "# Find the corresponding dates for the greatest increase and decrease\n",
    "increase_date = dates[changes.index(greatest_increase)]\n",
    "decrease_date = dates[changes.index(greatest_decrease)]"
   ]
  },
  {
   "cell_type": "code",
   "execution_count": 6,
   "id": "be82e145",
   "metadata": {},
   "outputs": [
    {
     "name": "stdout",
     "output_type": "stream",
     "text": [
      "Financial Analysis\n",
      "-----------------------------\n",
      "Total Months: 86\n",
      "Total: $22564198\n",
      "Average Change: $-8311.11\n",
      "Greatest Increase in Profits: Aug-16 ($1862002)\n",
      "Greatest Decrease in Profits: Feb-14 ($-1825558)\n"
     ]
    }
   ],
   "source": [
    "# Print the results\n",
    "print(\"Financial Analysis\")\n",
    "print(\"-----------------------------\")\n",
    "print(f\"Total Months: {total_months}\")\n",
    "print(f\"Total: ${net_profit}\")\n",
    "print(f\"Average Change: ${average_change:.2f}\")\n",
    "print(f\"Greatest Increase in Profits: {increase_date} (${greatest_increase})\")\n",
    "print(f\"Greatest Decrease in Profits: {decrease_date} (${greatest_decrease})\")"
   ]
  },
  {
   "cell_type": "code",
   "execution_count": null,
   "id": "9e0a358c",
   "metadata": {},
   "outputs": [],
   "source": []
  }
 ],
 "metadata": {
  "kernelspec": {
   "display_name": "Python 3 (ipykernel)",
   "language": "python",
   "name": "python3"
  },
  "language_info": {
   "codemirror_mode": {
    "name": "ipython",
    "version": 3
   },
   "file_extension": ".py",
   "mimetype": "text/x-python",
   "name": "python",
   "nbconvert_exporter": "python",
   "pygments_lexer": "ipython3",
   "version": "3.11.5"
  }
 },
 "nbformat": 4,
 "nbformat_minor": 5
}
