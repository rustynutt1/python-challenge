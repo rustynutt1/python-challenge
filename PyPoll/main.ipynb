{
 "cells": [
  {
   "cell_type": "code",
   "execution_count": 1,
   "id": "7f613949",
   "metadata": {},
   "outputs": [],
   "source": [
    "#Get csv info\n",
    "import csv\n",
    "file_path = \"Resources/election_data.csv\""
   ]
  },
  {
   "cell_type": "code",
   "execution_count": 2,
   "id": "c68df00a",
   "metadata": {},
   "outputs": [],
   "source": [
    "# Variables\n",
    "total_votes = 0\n",
    "candidates = {}"
   ]
  },
  {
   "cell_type": "code",
   "execution_count": 3,
   "id": "198a1250",
   "metadata": {},
   "outputs": [],
   "source": [
    "# Loop through CSV file\n",
    "with open(file_path, 'r') as file:\n",
    "    csvreader = csv.reader(file)\n",
    "    \n",
    "    # Skip header row\n",
    "    header = next(csvreader)\n",
    "    \n",
    "     # Loop through each row in the CSV file\n",
    "    for row in csvreader:\n",
    "        # Count the total number of votes\n",
    "        total_votes += 1\n",
    "        \n",
    "        # Get candidate's name from the row\n",
    "        candidate_name = row[2]\n",
    "        \n",
    "        # If candidate is not in the dictionary, add them\n",
    "        if candidate_name not in candidates:\n",
    "            candidates[candidate_name] = 0\n",
    "        \n",
    "        # Increment the candidate's vote count\n",
    "        candidates[candidate_name] += 1"
   ]
  },
  {
   "cell_type": "code",
   "execution_count": 4,
   "id": "152e7130",
   "metadata": {},
   "outputs": [],
   "source": [
    "# Calculate percentage of votes each candidate won\n",
    "candidate_percentages = {}\n",
    "for candidate in candidates:\n",
    "    votes = candidates[candidate]\n",
    "    percentage = (votes / total_votes) * 100\n",
    "    candidate_percentages[candidate] = round(percentage, 2)\n",
    "    \n",
    "# Find the winner based on popular vote\n",
    "winner = max(candidate_percentages, key=candidate_percentages.get)"
   ]
  },
  {
   "cell_type": "code",
   "execution_count": 5,
   "id": "81cbb692",
   "metadata": {},
   "outputs": [
    {
     "name": "stdout",
     "output_type": "stream",
     "text": [
      "Election Results\n",
      "-------------------------\n",
      "Total Votes: 369711\n",
      "-------------------------\n",
      "Charles Casper Stockham: 23.05% (85213)\n",
      "Diana DeGette: 73.81% (272892)\n",
      "Raymon Anthony Doane: 3.14% (11606)\n",
      "-------------------------\n",
      "Winner: Diana DeGette\n",
      "-------------------------\n"
     ]
    }
   ],
   "source": [
    "# Print the analysis results\n",
    "print(\"Election Results\")\n",
    "print(\"-------------------------\")\n",
    "print(f\"Total Votes: {total_votes}\")\n",
    "print(\"-------------------------\")\n",
    "for candidate in candidates:\n",
    "    votes = candidates[candidate]\n",
    "    percentage = candidate_percentages[candidate]\n",
    "    print(f\"{candidate}: {percentage}% ({votes})\")\n",
    "print(\"-------------------------\")\n",
    "print(f\"Winner: {winner}\")\n",
    "print(\"-------------------------\")"
   ]
  },
  {
   "cell_type": "code",
   "execution_count": null,
   "id": "373364e5",
   "metadata": {},
   "outputs": [],
   "source": []
  }
 ],
 "metadata": {
  "kernelspec": {
   "display_name": "Python 3 (ipykernel)",
   "language": "python",
   "name": "python3"
  },
  "language_info": {
   "codemirror_mode": {
    "name": "ipython",
    "version": 3
   },
   "file_extension": ".py",
   "mimetype": "text/x-python",
   "name": "python",
   "nbconvert_exporter": "python",
   "pygments_lexer": "ipython3",
   "version": "3.11.5"
  }
 },
 "nbformat": 4,
 "nbformat_minor": 5
}
